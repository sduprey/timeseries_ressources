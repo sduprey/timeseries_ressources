{
 "cells": [
  {
   "cell_type": "code",
   "execution_count": 7,
   "id": "2a55eb2b",
   "metadata": {},
   "outputs": [],
   "source": [
    "import numpy as np\n",
    "import pandas as pd"
   ]
  },
  {
   "cell_type": "code",
   "execution_count": 3,
   "id": "a5ac6d5f",
   "metadata": {},
   "outputs": [],
   "source": [
    "n = 100\n",
    "T = 10000\n",
    "\n",
    "X = np.random.randn(n,T)\n"
   ]
  },
  {
   "cell_type": "code",
   "execution_count": 5,
   "id": "c7cd7344",
   "metadata": {},
   "outputs": [
    {
     "data": {
      "text/plain": [
       "(100, 10000)"
      ]
     },
     "execution_count": 5,
     "metadata": {},
     "output_type": "execute_result"
    }
   ],
   "source": [
    "X.shape"
   ]
  },
  {
   "cell_type": "code",
   "execution_count": 10,
   "id": "0495d3c1",
   "metadata": {},
   "outputs": [],
   "source": [
    "trajectories_df = pd.DataFrame(X)"
   ]
  },
  {
   "cell_type": "code",
   "execution_count": 13,
   "id": "1941d8ac",
   "metadata": {},
   "outputs": [],
   "source": [
    "mean_df = trajectories_df.mean(axis = 0)"
   ]
  },
  {
   "cell_type": "code",
   "execution_count": 14,
   "id": "e8c499b5",
   "metadata": {},
   "outputs": [
    {
     "data": {
      "text/plain": [
       "(10000,)"
      ]
     },
     "execution_count": 14,
     "metadata": {},
     "output_type": "execute_result"
    }
   ],
   "source": [
    "mean_df.shape"
   ]
  },
  {
   "cell_type": "code",
   "execution_count": 27,
   "id": "c4018b66",
   "metadata": {},
   "outputs": [
    {
     "name": "stdout",
     "output_type": "stream",
     "text": [
      "averaging 10 samples over 10000 trajectories\n"
     ]
    },
    {
     "data": {
      "text/html": [
       "<div>\n",
       "<style scoped>\n",
       "    .dataframe tbody tr th:only-of-type {\n",
       "        vertical-align: middle;\n",
       "    }\n",
       "\n",
       "    .dataframe tbody tr th {\n",
       "        vertical-align: top;\n",
       "    }\n",
       "\n",
       "    .dataframe thead th {\n",
       "        text-align: right;\n",
       "    }\n",
       "</style>\n",
       "<table border=\"1\" class=\"dataframe\">\n",
       "  <thead>\n",
       "    <tr style=\"text-align: right;\">\n",
       "      <th></th>\n",
       "      <th>0</th>\n",
       "      <th>1</th>\n",
       "      <th>2</th>\n",
       "      <th>3</th>\n",
       "      <th>4</th>\n",
       "      <th>5</th>\n",
       "      <th>6</th>\n",
       "      <th>7</th>\n",
       "      <th>8</th>\n",
       "      <th>9</th>\n",
       "      <th>...</th>\n",
       "      <th>9990</th>\n",
       "      <th>9991</th>\n",
       "      <th>9992</th>\n",
       "      <th>9993</th>\n",
       "      <th>9994</th>\n",
       "      <th>9995</th>\n",
       "      <th>9996</th>\n",
       "      <th>9997</th>\n",
       "      <th>9998</th>\n",
       "      <th>9999</th>\n",
       "    </tr>\n",
       "  </thead>\n",
       "  <tbody>\n",
       "    <tr>\n",
       "      <th>0</th>\n",
       "      <td>0.327183</td>\n",
       "      <td>-0.01488</td>\n",
       "      <td>-0.281113</td>\n",
       "      <td>0.098754</td>\n",
       "      <td>-0.567673</td>\n",
       "      <td>0.039632</td>\n",
       "      <td>-0.113382</td>\n",
       "      <td>0.59363</td>\n",
       "      <td>-0.345958</td>\n",
       "      <td>0.030911</td>\n",
       "      <td>...</td>\n",
       "      <td>0.182114</td>\n",
       "      <td>-0.351351</td>\n",
       "      <td>-0.29484</td>\n",
       "      <td>0.182746</td>\n",
       "      <td>0.367004</td>\n",
       "      <td>0.355211</td>\n",
       "      <td>-0.254635</td>\n",
       "      <td>-0.115152</td>\n",
       "      <td>-0.058928</td>\n",
       "      <td>0.170701</td>\n",
       "    </tr>\n",
       "  </tbody>\n",
       "</table>\n",
       "<p>1 rows × 10000 columns</p>\n",
       "</div>"
      ],
      "text/plain": [
       "       0        1         2         3         4         5         6     \\\n",
       "0  0.327183 -0.01488 -0.281113  0.098754 -0.567673  0.039632 -0.113382   \n",
       "\n",
       "      7         8         9     ...      9990      9991     9992      9993  \\\n",
       "0  0.59363 -0.345958  0.030911  ...  0.182114 -0.351351 -0.29484  0.182746   \n",
       "\n",
       "       9994      9995      9996      9997      9998      9999  \n",
       "0  0.367004  0.355211 -0.254635 -0.115152 -0.058928  0.170701  \n",
       "\n",
       "[1 rows x 10000 columns]"
      ]
     },
     "execution_count": 27,
     "metadata": {},
     "output_type": "execute_result"
    }
   ],
   "source": [
    "n = 10\n",
    "print(f'averaging {n} samples over {T} trajectories')\n",
    "trajectories_df = pd.DataFrame(np.random.randn(n,T))\n",
    "mean_df = trajectories_df.mean(axis = 0).to_frame().T\n",
    "mean_df"
   ]
  },
  {
   "cell_type": "code",
   "execution_count": 47,
   "id": "dbc298ac",
   "metadata": {},
   "outputs": [
    {
     "name": "stdout",
     "output_type": "stream",
     "text": [
      "averaging 10 samples over 10000 trajectories\n",
      "averaging 110 samples over 10000 trajectories\n",
      "averaging 210 samples over 10000 trajectories\n",
      "averaging 310 samples over 10000 trajectories\n",
      "averaging 410 samples over 10000 trajectories\n",
      "averaging 510 samples over 10000 trajectories\n",
      "averaging 610 samples over 10000 trajectories\n",
      "averaging 710 samples over 10000 trajectories\n",
      "averaging 810 samples over 10000 trajectories\n",
      "averaging 910 samples over 10000 trajectories\n",
      "averaging 1010 samples over 10000 trajectories\n",
      "averaging 1110 samples over 10000 trajectories\n",
      "averaging 1210 samples over 10000 trajectories\n",
      "averaging 1310 samples over 10000 trajectories\n",
      "averaging 1410 samples over 10000 trajectories\n",
      "averaging 1510 samples over 10000 trajectories\n",
      "averaging 1610 samples over 10000 trajectories\n",
      "averaging 1710 samples over 10000 trajectories\n",
      "averaging 1810 samples over 10000 trajectories\n",
      "averaging 1910 samples over 10000 trajectories\n",
      "averaging 2010 samples over 10000 trajectories\n",
      "averaging 2110 samples over 10000 trajectories\n",
      "averaging 2210 samples over 10000 trajectories\n",
      "averaging 2310 samples over 10000 trajectories\n",
      "averaging 2410 samples over 10000 trajectories\n",
      "averaging 2510 samples over 10000 trajectories\n",
      "averaging 2610 samples over 10000 trajectories\n",
      "averaging 2710 samples over 10000 trajectories\n",
      "averaging 2810 samples over 10000 trajectories\n",
      "averaging 2910 samples over 10000 trajectories\n",
      "averaging 3010 samples over 10000 trajectories\n",
      "averaging 3110 samples over 10000 trajectories\n",
      "averaging 3210 samples over 10000 trajectories\n",
      "averaging 3310 samples over 10000 trajectories\n",
      "averaging 3410 samples over 10000 trajectories\n",
      "averaging 3510 samples over 10000 trajectories\n",
      "averaging 3610 samples over 10000 trajectories\n",
      "averaging 3710 samples over 10000 trajectories\n",
      "averaging 3810 samples over 10000 trajectories\n",
      "averaging 3910 samples over 10000 trajectories\n",
      "averaging 4010 samples over 10000 trajectories\n",
      "averaging 4110 samples over 10000 trajectories\n",
      "averaging 4210 samples over 10000 trajectories\n",
      "averaging 4310 samples over 10000 trajectories\n",
      "averaging 4410 samples over 10000 trajectories\n",
      "averaging 4510 samples over 10000 trajectories\n",
      "averaging 4610 samples over 10000 trajectories\n",
      "averaging 4710 samples over 10000 trajectories\n",
      "averaging 4810 samples over 10000 trajectories\n",
      "averaging 4910 samples over 10000 trajectories\n",
      "averaging 5010 samples over 10000 trajectories\n",
      "averaging 5110 samples over 10000 trajectories\n",
      "averaging 5210 samples over 10000 trajectories\n",
      "averaging 5310 samples over 10000 trajectories\n",
      "averaging 5410 samples over 10000 trajectories\n",
      "averaging 5510 samples over 10000 trajectories\n",
      "averaging 5610 samples over 10000 trajectories\n",
      "averaging 5710 samples over 10000 trajectories\n",
      "averaging 5810 samples over 10000 trajectories\n",
      "averaging 5910 samples over 10000 trajectories\n",
      "averaging 6010 samples over 10000 trajectories\n",
      "averaging 6110 samples over 10000 trajectories\n",
      "averaging 6210 samples over 10000 trajectories\n",
      "averaging 6310 samples over 10000 trajectories\n",
      "averaging 6410 samples over 10000 trajectories\n",
      "averaging 6510 samples over 10000 trajectories\n",
      "averaging 6610 samples over 10000 trajectories\n",
      "averaging 6710 samples over 10000 trajectories\n",
      "averaging 6810 samples over 10000 trajectories\n",
      "averaging 6910 samples over 10000 trajectories\n",
      "averaging 7010 samples over 10000 trajectories\n",
      "averaging 7110 samples over 10000 trajectories\n",
      "averaging 7210 samples over 10000 trajectories\n",
      "averaging 7310 samples over 10000 trajectories\n",
      "averaging 7410 samples over 10000 trajectories\n",
      "averaging 7510 samples over 10000 trajectories\n",
      "averaging 7610 samples over 10000 trajectories\n",
      "averaging 7710 samples over 10000 trajectories\n",
      "averaging 7810 samples over 10000 trajectories\n",
      "averaging 7910 samples over 10000 trajectories\n",
      "averaging 8010 samples over 10000 trajectories\n",
      "averaging 8110 samples over 10000 trajectories\n",
      "averaging 8210 samples over 10000 trajectories\n",
      "averaging 8310 samples over 10000 trajectories\n",
      "averaging 8410 samples over 10000 trajectories\n",
      "averaging 8510 samples over 10000 trajectories\n",
      "averaging 8610 samples over 10000 trajectories\n",
      "averaging 8710 samples over 10000 trajectories\n",
      "averaging 8810 samples over 10000 trajectories\n",
      "averaging 8910 samples over 10000 trajectories\n",
      "averaging 9010 samples over 10000 trajectories\n",
      "averaging 9110 samples over 10000 trajectories\n",
      "averaging 9210 samples over 10000 trajectories\n",
      "averaging 9310 samples over 10000 trajectories\n",
      "averaging 9410 samples over 10000 trajectories\n",
      "averaging 9510 samples over 10000 trajectories\n",
      "averaging 9610 samples over 10000 trajectories\n",
      "averaging 9710 samples over 10000 trajectories\n",
      "averaging 9810 samples over 10000 trajectories\n",
      "averaging 9910 samples over 10000 trajectories\n"
     ]
    }
   ],
   "source": [
    "concatenated_df = None\n",
    "my_ns = range(10, 10000,100)\n",
    "for n in my_ns:\n",
    "    print(f'averaging {n} samples over {T} trajectories')\n",
    "    trajectories_df = pd.DataFrame(np.random.randn(n,T))\n",
    "    mean_df = trajectories_df.mean(axis = 0).to_frame().T\n",
    "    if concatenated_df is None:\n",
    "        concatenated_df = mean_df\n",
    "    else :\n",
    "        concatenated_df = pd.concat([concatenated_df, mean_df])\n",
    "    \n",
    "final_df = concatenated_df.T       \n",
    "final_df.columns=my_ns"
   ]
  },
  {
   "cell_type": "code",
   "execution_count": 42,
   "id": "7b471f4f",
   "metadata": {},
   "outputs": [
    {
     "data": {
      "text/html": [
       "<div>\n",
       "<style scoped>\n",
       "    .dataframe tbody tr th:only-of-type {\n",
       "        vertical-align: middle;\n",
       "    }\n",
       "\n",
       "    .dataframe tbody tr th {\n",
       "        vertical-align: top;\n",
       "    }\n",
       "\n",
       "    .dataframe thead th {\n",
       "        text-align: right;\n",
       "    }\n",
       "</style>\n",
       "<table border=\"1\" class=\"dataframe\">\n",
       "  <thead>\n",
       "    <tr style=\"text-align: right;\">\n",
       "      <th></th>\n",
       "      <th>10</th>\n",
       "      <th>100</th>\n",
       "      <th>1000</th>\n",
       "      <th>10000</th>\n",
       "    </tr>\n",
       "  </thead>\n",
       "  <tbody>\n",
       "    <tr>\n",
       "      <th>0</th>\n",
       "      <td>0.079500</td>\n",
       "      <td>-0.036348</td>\n",
       "      <td>-0.029408</td>\n",
       "      <td>0.000382</td>\n",
       "    </tr>\n",
       "    <tr>\n",
       "      <th>1</th>\n",
       "      <td>0.013007</td>\n",
       "      <td>-0.017760</td>\n",
       "      <td>0.009327</td>\n",
       "      <td>0.012811</td>\n",
       "    </tr>\n",
       "    <tr>\n",
       "      <th>2</th>\n",
       "      <td>-0.376798</td>\n",
       "      <td>-0.077921</td>\n",
       "      <td>0.036594</td>\n",
       "      <td>-0.009197</td>\n",
       "    </tr>\n",
       "    <tr>\n",
       "      <th>3</th>\n",
       "      <td>-0.000941</td>\n",
       "      <td>-0.195291</td>\n",
       "      <td>0.050317</td>\n",
       "      <td>-0.000099</td>\n",
       "    </tr>\n",
       "    <tr>\n",
       "      <th>4</th>\n",
       "      <td>0.324575</td>\n",
       "      <td>0.051936</td>\n",
       "      <td>0.027696</td>\n",
       "      <td>0.003824</td>\n",
       "    </tr>\n",
       "    <tr>\n",
       "      <th>...</th>\n",
       "      <td>...</td>\n",
       "      <td>...</td>\n",
       "      <td>...</td>\n",
       "      <td>...</td>\n",
       "    </tr>\n",
       "    <tr>\n",
       "      <th>9995</th>\n",
       "      <td>-0.066526</td>\n",
       "      <td>-0.105882</td>\n",
       "      <td>-0.024622</td>\n",
       "      <td>0.007516</td>\n",
       "    </tr>\n",
       "    <tr>\n",
       "      <th>9996</th>\n",
       "      <td>-0.402553</td>\n",
       "      <td>-0.007103</td>\n",
       "      <td>-0.011410</td>\n",
       "      <td>-0.000548</td>\n",
       "    </tr>\n",
       "    <tr>\n",
       "      <th>9997</th>\n",
       "      <td>0.368317</td>\n",
       "      <td>0.042497</td>\n",
       "      <td>-0.018114</td>\n",
       "      <td>-0.012181</td>\n",
       "    </tr>\n",
       "    <tr>\n",
       "      <th>9998</th>\n",
       "      <td>-0.564214</td>\n",
       "      <td>-0.040270</td>\n",
       "      <td>0.004522</td>\n",
       "      <td>0.014190</td>\n",
       "    </tr>\n",
       "    <tr>\n",
       "      <th>9999</th>\n",
       "      <td>-0.493896</td>\n",
       "      <td>0.067975</td>\n",
       "      <td>0.016091</td>\n",
       "      <td>0.012136</td>\n",
       "    </tr>\n",
       "  </tbody>\n",
       "</table>\n",
       "<p>10000 rows × 4 columns</p>\n",
       "</div>"
      ],
      "text/plain": [
       "         10        100       1000      10000\n",
       "0     0.079500 -0.036348 -0.029408  0.000382\n",
       "1     0.013007 -0.017760  0.009327  0.012811\n",
       "2    -0.376798 -0.077921  0.036594 -0.009197\n",
       "3    -0.000941 -0.195291  0.050317 -0.000099\n",
       "4     0.324575  0.051936  0.027696  0.003824\n",
       "...        ...       ...       ...       ...\n",
       "9995 -0.066526 -0.105882 -0.024622  0.007516\n",
       "9996 -0.402553 -0.007103 -0.011410 -0.000548\n",
       "9997  0.368317  0.042497 -0.018114 -0.012181\n",
       "9998 -0.564214 -0.040270  0.004522  0.014190\n",
       "9999 -0.493896  0.067975  0.016091  0.012136\n",
       "\n",
       "[10000 rows x 4 columns]"
      ]
     },
     "execution_count": 42,
     "metadata": {},
     "output_type": "execute_result"
    }
   ],
   "source": [
    "final_df"
   ]
  },
  {
   "cell_type": "code",
   "execution_count": 49,
   "id": "6c60c7bc",
   "metadata": {},
   "outputs": [],
   "source": [
    "std_df = final_df.std()"
   ]
  },
  {
   "cell_type": "code",
   "execution_count": 50,
   "id": "ea1a7a21",
   "metadata": {},
   "outputs": [
    {
     "data": {
      "text/plain": [
       "<Axes: >"
      ]
     },
     "execution_count": 50,
     "metadata": {},
     "output_type": "execute_result"
    },
    {
     "data": {
      "image/png": "[encoded data removed]",
      "text/plain": [
       "<Figure size 640x480 with 1 Axes>"
      ]
     },
     "metadata": {},
     "output_type": "display_data"
    }
   ],
   "source": [
    "std_df.plot()"
   ]
  },
  {
   "cell_type": "code",
   "execution_count": null,
   "id": "cf5335b3",
   "metadata": {},
   "outputs": [],
   "source": []
  },
  {
   "cell_type": "code",
   "execution_count": null,
   "id": "df12b657",
   "metadata": {},
   "outputs": [],
   "source": []
  }
 ],
 "metadata": {
  "kernelspec": {
   "display_name": "Python 3 (ipykernel)",
   "language": "python",
   "name": "python3"
  },
  "language_info": {
   "codemirror_mode": {
    "name": "ipython",
    "version": 3
   },
   "file_extension": ".py",
   "mimetype": "text/x-python",
   "name": "python",
   "nbconvert_exporter": "python",
   "pygments_lexer": "ipython3",
   "version": "3.11.5"
  }
 },
 "nbformat": 4,
 "nbformat_minor": 5
}
