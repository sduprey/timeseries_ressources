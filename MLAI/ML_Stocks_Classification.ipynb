{
 "cells": [
  {
   "cell_type": "code",
   "execution_count": 1,
   "id": "7a885d75",
   "metadata": {},
   "outputs": [],
   "source": [
    "import pandas as pd\n",
    "import numpy as np\n",
    "import matplotlib.pyplot as plt\n",
    "from sklearn.linear_model import LogisticRegression\n",
    "from sklearn.svm import SVC\n",
    "from sklearn.ensemble import RandomForestClassifier\n",
    "from sklearn.preprocessing import StandardScaler"
   ]
  },
  {
   "cell_type": "code",
   "execution_count": 2,
   "id": "1a277596",
   "metadata": {},
   "outputs": [
    {
     "data": {
      "text/html": [
       "<div>\n",
       "<style scoped>\n",
       "    .dataframe tbody tr th:only-of-type {\n",
       "        vertical-align: middle;\n",
       "    }\n",
       "\n",
       "    .dataframe tbody tr th {\n",
       "        vertical-align: top;\n",
       "    }\n",
       "\n",
       "    .dataframe thead th {\n",
       "        text-align: right;\n",
       "    }\n",
       "</style>\n",
       "<table border=\"1\" class=\"dataframe\">\n",
       "  <thead>\n",
       "    <tr style=\"text-align: right;\">\n",
       "      <th></th>\n",
       "      <th>Open</th>\n",
       "      <th>High</th>\n",
       "      <th>Low</th>\n",
       "      <th>Close</th>\n",
       "      <th>Adj Close</th>\n",
       "      <th>Volume</th>\n",
       "      <th>Name</th>\n",
       "    </tr>\n",
       "    <tr>\n",
       "      <th>Date</th>\n",
       "      <th></th>\n",
       "      <th></th>\n",
       "      <th></th>\n",
       "      <th></th>\n",
       "      <th></th>\n",
       "      <th></th>\n",
       "      <th></th>\n",
       "    </tr>\n",
       "  </thead>\n",
       "  <tbody>\n",
       "    <tr>\n",
       "      <th>2010-01-04</th>\n",
       "      <td>9.22</td>\n",
       "      <td>9.51</td>\n",
       "      <td>9.17</td>\n",
       "      <td>9.50</td>\n",
       "      <td>9.50</td>\n",
       "      <td>1865400.0</td>\n",
       "      <td>INCY</td>\n",
       "    </tr>\n",
       "    <tr>\n",
       "      <th>2010-01-05</th>\n",
       "      <td>9.51</td>\n",
       "      <td>10.29</td>\n",
       "      <td>9.45</td>\n",
       "      <td>10.27</td>\n",
       "      <td>10.27</td>\n",
       "      <td>7608900.0</td>\n",
       "      <td>INCY</td>\n",
       "    </tr>\n",
       "    <tr>\n",
       "      <th>2010-01-06</th>\n",
       "      <td>10.38</td>\n",
       "      <td>11.09</td>\n",
       "      <td>10.35</td>\n",
       "      <td>11.00</td>\n",
       "      <td>11.00</td>\n",
       "      <td>8046700.0</td>\n",
       "      <td>INCY</td>\n",
       "    </tr>\n",
       "    <tr>\n",
       "      <th>2010-01-07</th>\n",
       "      <td>11.00</td>\n",
       "      <td>11.06</td>\n",
       "      <td>10.62</td>\n",
       "      <td>10.82</td>\n",
       "      <td>10.82</td>\n",
       "      <td>3680300.0</td>\n",
       "      <td>INCY</td>\n",
       "    </tr>\n",
       "    <tr>\n",
       "      <th>2010-01-08</th>\n",
       "      <td>10.82</td>\n",
       "      <td>11.00</td>\n",
       "      <td>10.75</td>\n",
       "      <td>10.94</td>\n",
       "      <td>10.94</td>\n",
       "      <td>1529300.0</td>\n",
       "      <td>INCY</td>\n",
       "    </tr>\n",
       "  </tbody>\n",
       "</table>\n",
       "</div>"
      ],
      "text/plain": [
       "             Open   High    Low  Close  Adj Close     Volume  Name\n",
       "Date                                                              \n",
       "2010-01-04   9.22   9.51   9.17   9.50       9.50  1865400.0  INCY\n",
       "2010-01-05   9.51  10.29   9.45  10.27      10.27  7608900.0  INCY\n",
       "2010-01-06  10.38  11.09  10.35  11.00      11.00  8046700.0  INCY\n",
       "2010-01-07  11.00  11.06  10.62  10.82      10.82  3680300.0  INCY\n",
       "2010-01-08  10.82  11.00  10.75  10.94      10.94  1529300.0  INCY"
      ]
     },
     "execution_count": 2,
     "metadata": {},
     "output_type": "execute_result"
    }
   ],
   "source": [
    "df0 = pd.read_csv('sp500sub.csv', index_col='Date', parse_dates=True)\n",
    "df0.head()"
   ]
  },
  {
   "cell_type": "code",
   "execution_count": 3,
   "id": "0eded0cb",
   "metadata": {},
   "outputs": [],
   "source": [
    "df = df0[df0['Name'] == 'IBM'][['Close']].copy()\n",
    "df['LogClose'] = np.log(df['Close'])\n",
    "df['LogReturn'] = df['LogClose'].diff()"
   ]
  },
  {
   "cell_type": "code",
   "execution_count": 4,
   "id": "86ac55fe",
   "metadata": {},
   "outputs": [],
   "source": [
    "Ntest = 252\n",
    "train = df.iloc[:-Ntest]\n",
    "test = df.iloc[-Ntest:]"
   ]
  },
  {
   "cell_type": "code",
   "execution_count": 5,
   "id": "ac1697c2",
   "metadata": {},
   "outputs": [
    {
     "name": "stdout",
     "output_type": "stream",
     "text": [
      "X.shape (2241, 21) Y.shape (2241,)\n"
     ]
    }
   ],
   "source": [
    "# Make supervised dataset\n",
    "# let's see if we can use T past values to predict the next value\n",
    "\n",
    "series = df['LogReturn'].to_numpy()[1:] # first value is nan\n",
    "target = (series > 0) * 1\n",
    "\n",
    "T = 21\n",
    "X = []\n",
    "Y = []\n",
    "# count up to 1 less than before, since there is no target for last close\n",
    "for t in range(len(series) - T):\n",
    "  x = series[t:t+T]\n",
    "  X.append(x)\n",
    "  y = target[t+T]\n",
    "  Y.append(y)\n",
    "\n",
    "X = np.array(X).reshape(-1, T)\n",
    "Y = np.array(Y)\n",
    "N = len(X)\n",
    "print(\"X.shape\", X.shape, \"Y.shape\", Y.shape)"
   ]
  },
  {
   "cell_type": "code",
   "execution_count": 6,
   "id": "f678766a",
   "metadata": {},
   "outputs": [],
   "source": [
    "Xtrain, Ytrain = X[:-Ntest], Y[:-Ntest]\n",
    "Xtest, Ytest = X[-Ntest:], Y[-Ntest:]"
   ]
  },
  {
   "cell_type": "code",
   "execution_count": 7,
   "id": "1348d9b7",
   "metadata": {},
   "outputs": [
    {
     "data": {
      "text/plain": [
       "0.5093011563599799"
      ]
     },
     "execution_count": 7,
     "metadata": {},
     "output_type": "execute_result"
    }
   ],
   "source": [
    "lr = LogisticRegression()\n",
    "lr.fit(Xtrain, Ytrain)\n",
    "lr.score(Xtrain, Ytrain)\n"
   ]
  },
  {
   "cell_type": "code",
   "execution_count": 8,
   "id": "7dc98c01",
   "metadata": {},
   "outputs": [
    {
     "data": {
      "text/plain": [
       "0.49603174603174605"
      ]
     },
     "execution_count": 8,
     "metadata": {},
     "output_type": "execute_result"
    }
   ],
   "source": [
    "\n",
    "lr.score(Xtest, Ytest)"
   ]
  },
  {
   "cell_type": "code",
   "execution_count": 9,
   "id": "9276e655",
   "metadata": {},
   "outputs": [
    {
     "data": {
      "text/plain": [
       "0.7551533433886375"
      ]
     },
     "execution_count": 9,
     "metadata": {},
     "output_type": "execute_result"
    }
   ],
   "source": [
    "svc = SVC()\n",
    "svc.fit(Xtrain, Ytrain)\n",
    "svc.score(Xtrain, Ytrain)"
   ]
  },
  {
   "cell_type": "code",
   "execution_count": 10,
   "id": "094d928b",
   "metadata": {},
   "outputs": [
    {
     "data": {
      "text/plain": [
       "0.49603174603174605"
      ]
     },
     "execution_count": 10,
     "metadata": {},
     "output_type": "execute_result"
    }
   ],
   "source": [
    "svc.score(Xtest, Ytest)"
   ]
  },
  {
   "cell_type": "code",
   "execution_count": 11,
   "id": "9bc5bf46",
   "metadata": {},
   "outputs": [
    {
     "data": {
      "text/plain": [
       "1.0"
      ]
     },
     "execution_count": 11,
     "metadata": {},
     "output_type": "execute_result"
    }
   ],
   "source": [
    "rf = RandomForestClassifier()\n",
    "rf.fit(Xtrain, Ytrain)\n",
    "rf.score(Xtrain, Ytrain)"
   ]
  },
  {
   "cell_type": "code",
   "execution_count": 12,
   "id": "fa52371a",
   "metadata": {},
   "outputs": [
    {
     "data": {
      "text/plain": [
       "0.46825396825396826"
      ]
     },
     "execution_count": 12,
     "metadata": {},
     "output_type": "execute_result"
    }
   ],
   "source": [
    "rf.score(Xtest, Ytest)"
   ]
  },
  {
   "cell_type": "code",
   "execution_count": null,
   "id": "088de476",
   "metadata": {},
   "outputs": [],
   "source": []
  }
 ],
 "metadata": {
  "kernelspec": {
   "display_name": "Python 3 (ipykernel)",
   "language": "python",
   "name": "python3"
  },
  "language_info": {
   "codemirror_mode": {
    "name": "ipython",
    "version": 3
   },
   "file_extension": ".py",
   "mimetype": "text/x-python",
   "name": "python",
   "nbconvert_exporter": "python",
   "pygments_lexer": "ipython3",
   "version": "3.9.5"
  }
 },
 "nbformat": 4,
 "nbformat_minor": 5
}
